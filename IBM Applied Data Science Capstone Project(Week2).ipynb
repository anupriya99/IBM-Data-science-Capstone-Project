{
 "cells": [
  {
   "cell_type": "code",
   "execution_count": 1,
   "metadata": {},
   "outputs": [
    {
     "name": "stdout",
     "output_type": "stream",
     "text": [
      "Libraries imported.\n"
     ]
    }
   ],
   "source": [
    "import numpy as np # library to handle data in a vectorized manner\n",
    "\n",
    "import pandas as pd # library for data analsysis\n",
    "pd.set_option('display.max_columns', None)\n",
    "pd.set_option('display.max_rows', None)\n",
    "\n",
    "import json # library to handle JSON files\n",
    "from bs4 import BeautifulSoup\n",
    "\n",
    "#!conda install -c conda-forge geopy --yes # uncomment this line if you haven't completed the Foursquare API lab\n",
    "from geopy.geocoders import Nominatim # convert an address into latitude and longitude values\n",
    "\n",
    "import requests # library to handle requests\n",
    "from pandas.io.json import json_normalize # tranform JSON file into a pandas dataframe\n",
    "\n",
    "# Matplotlib and associated plotting modules\n",
    "import matplotlib.cm as cm\n",
    "import matplotlib.pyplot as plt\n",
    "import matplotlib.colors as colors\n",
    "%matplotlib inline\n",
    "\n",
    "import os\n",
    "# import k-means from clustering stage\n",
    "from sklearn.cluster import KMeans\n",
    "\n",
    "#!conda install -c conda-forge folium=0.5.0 --yes # uncomment this line if you haven't completed the Foursquare API lab\n",
    "import folium # map rendering library\n",
    "\n",
    "print('Libraries imported.')"
   ]
  },
  {
   "cell_type": "code",
   "execution_count": 2,
   "metadata": {},
   "outputs": [],
   "source": [
    "def geo_location(address):\n",
    "    # get geo location of address\n",
    "    geolocator = Nominatim(user_agent=\"ny_explorer\")\n",
    "    location = geolocator.geocode(address)\n",
    "    latitude = location.latitude\n",
    "    longitude = location.longitude\n",
    "    return latitude,longitude"
   ]
  },
  {
   "cell_type": "markdown",
   "metadata": {},
   "source": [
    " import data from json"
   ]
  },
  {
   "cell_type": "code",
   "execution_count": 3,
   "metadata": {},
   "outputs": [],
   "source": [
    "url='https://cocl.us/new_york_dataset'\n",
    "resp=requests.get(url).json()"
   ]
  },
  {
   "cell_type": "markdown",
   "metadata": {},
   "source": [
    "A function to read data and create dataframe"
   ]
  },
  {
   "cell_type": "code",
   "execution_count": 4,
   "metadata": {},
   "outputs": [],
   "source": [
    "def get_data():\n",
    "    \n",
    "    # all data is present in features label\n",
    "    features=resp['features']\n",
    "    \n",
    "    # define the dataframe columns\n",
    "    column_names = ['Borough', 'Neighborhood', 'Latitude', 'Longitude'] \n",
    "    # instantiate the dataframe\n",
    "    n_data = pd.DataFrame(columns=column_names)\n",
    "    \n",
    "    for data in features:\n",
    "        borough = data['properties']['borough'] \n",
    "        neighborhood_name = data['properties']['name']\n",
    "        \n",
    "        neighborhood_latlon = data['geometry']['coordinates']\n",
    "        neighborhood_lat = neighborhood_latlon[1]\n",
    "        neighborhood_lon = neighborhood_latlon[0]\n",
    "    \n",
    "        n_data = n_data.append({'Borough': borough,\n",
    "                                          'Neighborhood': neighborhood_name,\n",
    "                                          'Latitude': neighborhood_lat,\n",
    "                                          'Longitude': neighborhood_lon}, ignore_index=True)\n",
    "    \n",
    "    return n_data"
   ]
  },
  {
   "cell_type": "markdown",
   "metadata": {},
   "source": [
    "Let us retrieve first 5 rows from above data set"
   ]
  },
  {
   "cell_type": "code",
   "execution_count": 5,
   "metadata": {},
   "outputs": [
    {
     "data": {
      "text/html": [
       "<div>\n",
       "<style scoped>\n",
       "    .dataframe tbody tr th:only-of-type {\n",
       "        vertical-align: middle;\n",
       "    }\n",
       "\n",
       "    .dataframe tbody tr th {\n",
       "        vertical-align: top;\n",
       "    }\n",
       "\n",
       "    .dataframe thead th {\n",
       "        text-align: right;\n",
       "    }\n",
       "</style>\n",
       "<table border=\"1\" class=\"dataframe\">\n",
       "  <thead>\n",
       "    <tr style=\"text-align: right;\">\n",
       "      <th></th>\n",
       "      <th>Borough</th>\n",
       "      <th>Neighborhood</th>\n",
       "      <th>Latitude</th>\n",
       "      <th>Longitude</th>\n",
       "    </tr>\n",
       "  </thead>\n",
       "  <tbody>\n",
       "    <tr>\n",
       "      <th>0</th>\n",
       "      <td>Bronx</td>\n",
       "      <td>Wakefield</td>\n",
       "      <td>40.894705</td>\n",
       "      <td>-73.847201</td>\n",
       "    </tr>\n",
       "    <tr>\n",
       "      <th>1</th>\n",
       "      <td>Bronx</td>\n",
       "      <td>Co-op City</td>\n",
       "      <td>40.874294</td>\n",
       "      <td>-73.829939</td>\n",
       "    </tr>\n",
       "    <tr>\n",
       "      <th>2</th>\n",
       "      <td>Bronx</td>\n",
       "      <td>Eastchester</td>\n",
       "      <td>40.887556</td>\n",
       "      <td>-73.827806</td>\n",
       "    </tr>\n",
       "    <tr>\n",
       "      <th>3</th>\n",
       "      <td>Bronx</td>\n",
       "      <td>Fieldston</td>\n",
       "      <td>40.895437</td>\n",
       "      <td>-73.905643</td>\n",
       "    </tr>\n",
       "    <tr>\n",
       "      <th>4</th>\n",
       "      <td>Bronx</td>\n",
       "      <td>Riverdale</td>\n",
       "      <td>40.890834</td>\n",
       "      <td>-73.912585</td>\n",
       "    </tr>\n",
       "  </tbody>\n",
       "</table>\n",
       "</div>"
      ],
      "text/plain": [
       "  Borough Neighborhood   Latitude  Longitude\n",
       "0   Bronx    Wakefield  40.894705 -73.847201\n",
       "1   Bronx   Co-op City  40.874294 -73.829939\n",
       "2   Bronx  Eastchester  40.887556 -73.827806\n",
       "3   Bronx    Fieldston  40.895437 -73.905643\n",
       "4   Bronx    Riverdale  40.890834 -73.912585"
      ]
     },
     "execution_count": 5,
     "metadata": {},
     "output_type": "execute_result"
    }
   ],
   "source": [
    "newyork_data=get_data()\n",
    "newyork_data.head()"
   ]
  },
  {
   "cell_type": "code",
   "execution_count": 6,
   "metadata": {},
   "outputs": [
    {
     "data": {
      "text/plain": [
       "(306, 4)"
      ]
     },
     "execution_count": 6,
     "metadata": {},
     "output_type": "execute_result"
    }
   ],
   "source": [
    "newyork_data.shape"
   ]
  },
  {
   "cell_type": "code",
   "execution_count": 7,
   "metadata": {},
   "outputs": [
    {
     "data": {
      "text/plain": [
       "1224"
      ]
     },
     "execution_count": 7,
     "metadata": {},
     "output_type": "execute_result"
    }
   ],
   "source": [
    "newyork_data.size"
   ]
  },
  {
   "cell_type": "markdown",
   "metadata": {},
   "source": [
    "Let us visualize which borough versus neighbours distribution."
   ]
  },
  {
   "cell_type": "code",
   "execution_count": 8,
   "metadata": {},
   "outputs": [
    {
     "data": {
      "image/png": "[encoded data removed]",
      "text/plain": [
       "<Figure size 900x500 with 1 Axes>"
      ]
     },
     "metadata": {
      "needs_background": "light"
     },
     "output_type": "display_data"
    }
   ],
   "source": [
    "plt.figure(figsize=(9,5), dpi = 100)\n",
    "# title\n",
    "plt.title('Number of Neighborhoods versus Borough')\n",
    "#On x-axis\n",
    "plt.xlabel('Borough Name', fontsize = 15)\n",
    "#On y-axis\n",
    "plt.ylabel('Number of Neighborhood', fontsize=15)\n",
    "#giving a bar plot\n",
    "newyork_data.groupby('Borough')['Neighborhood'].count().plot(kind='bar')\n",
    "#legend\n",
    "plt.legend()\n",
    "#displays the plot\n",
    "plt.show()"
   ]
  },
  {
   "cell_type": "markdown",
   "metadata": {},
   "source": [
    "Next step is to figureout indian restuarants location. get_venues function returns venue id , name, category\n"
   ]
  },
  {
   "cell_type": "code",
   "execution_count": 22,
   "metadata": {},
   "outputs": [],
   "source": [
    "def get_venues(lat,lng):\n",
    "    \n",
    "    #set variables\n",
    "    radius=1000\n",
    "    LIMIT=100\n",
    "    CLIENT_ID ='S1G24XERWX3OSNWAINKYJ4IBH21OWGCQCVQXVKY0EHL4YTYH' # your Foursquare ID\n",
    "    CLIENT_SECRET = 'PCSFKDRCUXAJ431YDQ4LOZFTD0TPEWRB21BRT321VZEEZJZG' # your Foursquare Secret\n",
    "    VERSION = '20180605' # Foursquare API version\n",
    "    \n",
    "    #url to fetch data from foursquare api\n",
    "    url = 'https://api.foursquare.com/v2/venues/explore?&client_id={}&client_secret={}&v={}&ll={},{}&radius={}&limit={}'.format(\n",
    "            CLIENT_ID, \n",
    "            CLIENT_SECRET, \n",
    "            VERSION, \n",
    "            lat, \n",
    "            lng, \n",
    "            radius, \n",
    "            LIMIT)\n",
    "    \n",
    "     # get all the data\n",
    "    results = requests.get(url).json()\n",
    "    venue_data=results[\"response\"]['groups'][0]['items']\n",
    "    venue_details=[]\n",
    "    for row in venue_data:\n",
    "        try:\n",
    "            venue_id=row['venue']['id']\n",
    "            venue_name=row['venue']['name']\n",
    "            venue_category=row['venue']['categories'][0]['name']\n",
    "            venue_details.append([venue_id,venue_name,venue_category])\n",
    "        except KeyError:\n",
    "            pass\n",
    "        \n",
    "    column_names=['ID','Name','Category']\n",
    "    df = pd.DataFrame(venue_details,columns=column_names)\n",
    "    return df"
   ]
  },
  {
   "cell_type": "code",
   "execution_count": 25,
   "metadata": {},
   "outputs": [],
   "source": [
    "def get_venue_details(venue_id):\n",
    "        \n",
    "    CLIENT_ID = 'S1G24XERWX3OSNWAINKYJ4IBH21OWGCQCVQXVKY0EHL4YTYH' # your Foursquare ID\n",
    "    CLIENT_SECRET = 'PCSFKDRCUXAJ431YDQ4LOZFTD0TPEWRB21BRT321VZEEZJZG' # your Foursquare Secret\n",
    "    VERSION = '20180605' # Foursquare API version\n",
    "    \n",
    "    #url to fetch data from foursquare api\n",
    "    url = 'https://api.foursquare.com/v2/venues/{}?&client_id={}&client_secret={}&v={}'.format(\n",
    "            venue_id,\n",
    "            CLIENT_ID, \n",
    "            CLIENT_SECRET, \n",
    "            VERSION)\n",
    "    \n",
    "    # get all the data\n",
    "    results = requests.get(url).json()\n",
    "    venue_data=results['response']['venue']\n",
    "    venue_details=[]\n",
    "    try:\n",
    "        venue_id=venue_data['id']\n",
    "        venue_name=venue_data['name']\n",
    "        venue_likes=venue_data['likes']['count']\n",
    "        venue_rating=venue_data['rating']\n",
    "        venue_tips=venue_data['tips']['count']\n",
    "        venue_details.append([venue_id,venue_name,venue_likes,venue_rating,venue_tips])\n",
    "    except KeyError:\n",
    "        pass\n",
    "        \n",
    "    column_names=['ID','Name','Likes','Rating','Tips']\n",
    "    df = pd.DataFrame(venue_details,columns=column_names)\n",
    "    return df"
   ]
  },
  {
   "cell_type": "markdown",
   "metadata": {},
   "source": [
    "Collecting venues details which are Indian Restaurants"
   ]
  },
  {
   "cell_type": "code",
   "execution_count": 26,
   "metadata": {},
   "outputs": [
    {
     "name": "stdout",
     "output_type": "stream",
     "text": [
      "Indian Resturants in Wakefield, Bronx:0\n",
      "Indian Resturants in Co-op City, Bronx:0\n",
      "Indian Resturants in Eastchester, Bronx:0\n",
      "Indian Resturants in Fieldston, Bronx:0\n",
      "Indian Resturants in Riverdale, Bronx:1\n",
      "Indian Resturants in Kingsbridge, Bronx:1\n",
      "Indian Resturants in Marble Hill, Manhattan:0\n",
      "Indian Resturants in Woodlawn, Bronx:1\n",
      "Indian Resturants in Norwood, Bronx:0\n",
      "Indian Resturants in Williamsbridge, Bronx:0\n",
      "Indian Resturants in Baychester, Bronx:0\n",
      "Indian Resturants in Pelham Parkway, Bronx:0\n",
      "Indian Resturants in City Island, Bronx:0\n",
      "Indian Resturants in Bedford Park, Bronx:0\n",
      "Indian Resturants in University Heights, Bronx:0\n",
      "Indian Resturants in Morris Heights, Bronx:0\n",
      "Indian Resturants in Fordham, Bronx:0\n",
      "Indian Resturants in East Tremont, Bronx:0\n",
      "Indian Resturants in West Farms, Bronx:0\n",
      "Indian Resturants in High  Bridge, Bronx:0\n",
      "Indian Resturants in Melrose, Bronx:0\n",
      "Indian Resturants in Mott Haven, Bronx:0\n",
      "Indian Resturants in Port Morris, Bronx:0\n",
      "Indian Resturants in Longwood, Bronx:0\n",
      "Indian Resturants in Hunts Point, Bronx:0\n",
      "Indian Resturants in Morrisania, Bronx:0\n",
      "Indian Resturants in Soundview, Bronx:0\n",
      "Indian Resturants in Clason Point, Bronx:0\n",
      "Indian Resturants in Throgs Neck, Bronx:0\n",
      "Indian Resturants in Country Club, Bronx:0\n",
      "Indian Resturants in Parkchester, Bronx:1\n",
      "Indian Resturants in Westchester Square, Bronx:0\n",
      "Indian Resturants in Van Nest, Bronx:0\n",
      "Indian Resturants in Morris Park, Bronx:0\n",
      "Indian Resturants in Belmont, Bronx:0\n",
      "Indian Resturants in Spuyten Duyvil, Bronx:1\n",
      "Indian Resturants in North Riverdale, Bronx:0\n",
      "Indian Resturants in Pelham Bay, Bronx:0\n",
      "Indian Resturants in Schuylerville, Bronx:0\n",
      "Indian Resturants in Edgewater Park, Bronx:0\n",
      "Indian Resturants in Castle Hill, Bronx:0\n",
      "Indian Resturants in Olinville, Bronx:0\n",
      "Indian Resturants in Pelham Gardens, Bronx:0\n",
      "Indian Resturants in Concourse, Bronx:1\n",
      "Indian Resturants in Unionport, Bronx:1\n",
      "Indian Resturants in Edenwald, Bronx:0\n",
      "Indian Resturants in Bay Ridge, Brooklyn:1\n",
      "Indian Resturants in Bensonhurst, Brooklyn:0\n",
      "Indian Resturants in Sunset Park, Brooklyn:0\n",
      "Indian Resturants in Greenpoint, Brooklyn:0\n",
      "Indian Resturants in Gravesend, Brooklyn:0\n",
      "Indian Resturants in Brighton Beach, Brooklyn:1\n",
      "Indian Resturants in Sheepshead Bay, Brooklyn:0\n",
      "Indian Resturants in Manhattan Terrace, Brooklyn:0\n",
      "Indian Resturants in Flatbush, Brooklyn:2\n",
      "Indian Resturants in Crown Heights, Brooklyn:0\n",
      "Indian Resturants in East Flatbush, Brooklyn:1\n",
      "Indian Resturants in Kensington, Brooklyn:2\n",
      "Indian Resturants in Windsor Terrace, Brooklyn:0\n",
      "Indian Resturants in Prospect Heights, Brooklyn:0\n",
      "Indian Resturants in Brownsville, Brooklyn:0\n",
      "Indian Resturants in Williamsburg, Brooklyn:0\n",
      "Indian Resturants in Bushwick, Brooklyn:0\n",
      "Indian Resturants in Bedford Stuyvesant, Brooklyn:0\n",
      "Indian Resturants in Brooklyn Heights, Brooklyn:0\n",
      "Indian Resturants in Cobble Hill, Brooklyn:0\n",
      "Indian Resturants in Carroll Gardens, Brooklyn:0\n",
      "Indian Resturants in Red Hook, Brooklyn:0\n",
      "Indian Resturants in Gowanus, Brooklyn:1\n",
      "Indian Resturants in Fort Greene, Brooklyn:1\n",
      "Indian Resturants in Park Slope, Brooklyn:0\n",
      "Indian Resturants in Cypress Hills, Brooklyn:0\n",
      "Indian Resturants in East New York, Brooklyn:0\n",
      "Indian Resturants in Starrett City, Brooklyn:0\n",
      "Indian Resturants in Canarsie, Brooklyn:0\n",
      "Indian Resturants in Flatlands, Brooklyn:0\n",
      "Indian Resturants in Mill Island, Brooklyn:0\n",
      "Indian Resturants in Manhattan Beach, Brooklyn:0\n",
      "Indian Resturants in Coney Island, Brooklyn:0\n",
      "Indian Resturants in Bath Beach, Brooklyn:0\n",
      "Indian Resturants in Borough Park, Brooklyn:0\n",
      "Indian Resturants in Dyker Heights, Brooklyn:0\n",
      "Indian Resturants in Gerritsen Beach, Brooklyn:0\n",
      "Indian Resturants in Marine Park, Brooklyn:0\n",
      "Indian Resturants in Clinton Hill, Brooklyn:2\n",
      "Indian Resturants in Sea Gate, Brooklyn:0\n",
      "Indian Resturants in Downtown, Brooklyn:0\n",
      "Indian Resturants in Boerum Hill, Brooklyn:0\n",
      "Indian Resturants in Prospect Lefferts Gardens, Brooklyn:3\n",
      "Indian Resturants in Ocean Hill, Brooklyn:2\n",
      "Indian Resturants in City Line, Brooklyn:0\n",
      "Indian Resturants in Bergen Beach, Brooklyn:0\n",
      "Indian Resturants in Midwood, Brooklyn:0\n",
      "Indian Resturants in Prospect Park South, Brooklyn:2\n",
      "Indian Resturants in Georgetown, Brooklyn:0\n",
      "Indian Resturants in East Williamsburg, Brooklyn:0\n",
      "Indian Resturants in North Side, Brooklyn:1\n",
      "Indian Resturants in South Side, Brooklyn:1\n",
      "Indian Resturants in Ocean Parkway, Brooklyn:0\n",
      "Indian Resturants in Fort Hamilton, Brooklyn:0\n",
      "Indian Resturants in Chinatown, Manhattan:0\n",
      "Indian Resturants in Washington Heights, Manhattan:1\n",
      "Indian Resturants in Inwood, Manhattan:0\n",
      "Indian Resturants in Hamilton Heights, Manhattan:2\n",
      "Indian Resturants in Manhattanville, Manhattan:2\n",
      "Indian Resturants in Central Harlem, Manhattan:2\n",
      "Indian Resturants in East Harlem, Manhattan:1\n",
      "Indian Resturants in Upper East Side, Manhattan:0\n",
      "Indian Resturants in Yorkville, Manhattan:1\n",
      "Indian Resturants in Lenox Hill, Manhattan:0\n",
      "Indian Resturants in Roosevelt Island, Manhattan:1\n",
      "Indian Resturants in Upper West Side, Manhattan:3\n",
      "Indian Resturants in Lincoln Square, Manhattan:0\n",
      "Indian Resturants in Clinton, Manhattan:0\n",
      "Indian Resturants in Midtown, Manhattan:1\n",
      "Indian Resturants in Murray Hill, Manhattan:1\n",
      "Indian Resturants in Chelsea, Manhattan:1\n",
      "Indian Resturants in Greenwich Village, Manhattan:1\n",
      "Indian Resturants in East Village, Manhattan:0\n",
      "Indian Resturants in Lower East Side, Manhattan:0\n",
      "Indian Resturants in Tribeca, Manhattan:1\n",
      "Indian Resturants in Little Italy, Manhattan:0\n",
      "Indian Resturants in Soho, Manhattan:0\n",
      "Indian Resturants in West Village, Manhattan:2\n",
      "Indian Resturants in Manhattan Valley, Manhattan:5\n",
      "Indian Resturants in Morningside Heights, Manhattan:1\n",
      "Indian Resturants in Gramercy, Manhattan:3\n",
      "Indian Resturants in Battery Park City, Manhattan:0\n",
      "Indian Resturants in Financial District, Manhattan:1\n",
      "Indian Resturants in Astoria, Queens:1\n",
      "Indian Resturants in Woodside, Queens:6\n",
      "Indian Resturants in Jackson Heights, Queens:5\n",
      "Indian Resturants in Elmhurst, Queens:1\n",
      "Indian Resturants in Howard Beach, Queens:0\n",
      "Indian Resturants in Corona, Queens:0\n",
      "Indian Resturants in Forest Hills, Queens:0\n",
      "Indian Resturants in Kew Gardens, Queens:2\n",
      "Indian Resturants in Richmond Hill, Queens:7\n",
      "Indian Resturants in Flushing, Queens:0\n",
      "Indian Resturants in Long Island City, Queens:3\n",
      "Indian Resturants in Sunnyside, Queens:1\n",
      "Indian Resturants in East Elmhurst, Queens:0\n",
      "Indian Resturants in Maspeth, Queens:0\n",
      "Indian Resturants in Ridgewood, Queens:1\n",
      "Indian Resturants in Glendale, Queens:0\n",
      "Indian Resturants in Rego Park, Queens:1\n",
      "Indian Resturants in Woodhaven, Queens:0\n",
      "Indian Resturants in Ozone Park, Queens:1\n",
      "Indian Resturants in South Ozone Park, Queens:2\n",
      "Indian Resturants in College Point, Queens:0\n",
      "Indian Resturants in Whitestone, Queens:0\n",
      "Indian Resturants in Bayside, Queens:3\n",
      "Indian Resturants in Auburndale, Queens:0\n",
      "Indian Resturants in Little Neck, Queens:0\n",
      "Indian Resturants in Douglaston, Queens:0\n",
      "Indian Resturants in Glen Oaks, Queens:4\n",
      "Indian Resturants in Bellerose, Queens:0\n",
      "Indian Resturants in Kew Gardens Hills, Queens:0\n",
      "Indian Resturants in Fresh Meadows, Queens:0\n",
      "Indian Resturants in Briarwood, Queens:3\n",
      "Indian Resturants in Jamaica Center, Queens:4\n",
      "Indian Resturants in Oakland Gardens, Queens:0\n",
      "Indian Resturants in Queens Village, Queens:0\n",
      "Indian Resturants in Hollis, Queens:0\n",
      "Indian Resturants in South Jamaica, Queens:0\n",
      "Indian Resturants in St. Albans, Queens:0\n",
      "Indian Resturants in Rochdale, Queens:0\n",
      "Indian Resturants in Springfield Gardens, Queens:0\n",
      "Indian Resturants in Cambria Heights, Queens:0\n",
      "Indian Resturants in Rosedale, Queens:0\n",
      "Indian Resturants in Far Rockaway, Queens:0\n",
      "Indian Resturants in Broad Channel, Queens:0\n",
      "Indian Resturants in Breezy Point, Queens:0\n",
      "Indian Resturants in Steinway, Queens:1\n",
      "Indian Resturants in Beechhurst, Queens:0\n",
      "Indian Resturants in Bay Terrace, Queens:0\n",
      "Indian Resturants in Edgemere, Queens:0\n",
      "Indian Resturants in Arverne, Queens:0\n",
      "Indian Resturants in Rockaway Beach, Queens:0\n",
      "Indian Resturants in Neponsit, Queens:0\n",
      "Indian Resturants in Murray Hill, Queens:0\n",
      "Indian Resturants in Floral Park, Queens:9\n",
      "Indian Resturants in Holliswood, Queens:1\n",
      "Indian Resturants in Jamaica Estates, Queens:2\n",
      "Indian Resturants in Queensboro Hill, Queens:0\n",
      "Indian Resturants in Hillcrest, Queens:0\n"
     ]
    },
    {
     "name": "stdout",
     "output_type": "stream",
     "text": [
      "Indian Resturants in Ravenswood, Queens:1\n",
      "Indian Resturants in Lindenwood, Queens:0\n",
      "Indian Resturants in Laurelton, Queens:0\n",
      "Indian Resturants in Lefrak City, Queens:0\n",
      "Indian Resturants in Belle Harbor, Queens:0\n",
      "Indian Resturants in Rockaway Park, Queens:0\n",
      "Indian Resturants in Somerville, Queens:0\n",
      "Indian Resturants in Brookville, Queens:0\n",
      "Indian Resturants in Bellaire, Queens:1\n",
      "Indian Resturants in North Corona, Queens:0\n",
      "Indian Resturants in Forest Hills Gardens, Queens:0\n",
      "Indian Resturants in St. George, Staten Island:0\n",
      "Indian Resturants in New Brighton, Staten Island:1\n",
      "Indian Resturants in Stapleton, Staten Island:0\n",
      "Indian Resturants in Rosebank, Staten Island:0\n",
      "Indian Resturants in West Brighton, Staten Island:0\n",
      "Indian Resturants in Grymes Hill, Staten Island:0\n",
      "Indian Resturants in Todt Hill, Staten Island:0\n",
      "Indian Resturants in South Beach, Staten Island:0\n",
      "Indian Resturants in Port Richmond, Staten Island:0\n",
      "Indian Resturants in Mariner's Harbor, Staten Island:0\n",
      "Indian Resturants in Port Ivory, Staten Island:0\n",
      "Indian Resturants in Castleton Corners, Staten Island:0\n",
      "Indian Resturants in New Springville, Staten Island:0\n",
      "Indian Resturants in Travis, Staten Island:0\n",
      "Indian Resturants in New Dorp, Staten Island:1\n",
      "Indian Resturants in Oakwood, Staten Island:0\n",
      "Indian Resturants in Great Kills, Staten Island:0\n",
      "Indian Resturants in Eltingville, Staten Island:0\n",
      "Indian Resturants in Annadale, Staten Island:0\n",
      "Indian Resturants in Woodrow, Staten Island:0\n",
      "Indian Resturants in Tottenville, Staten Island:0\n",
      "Indian Resturants in Tompkinsville, Staten Island:1\n",
      "Indian Resturants in Silver Lake, Staten Island:0\n",
      "Indian Resturants in Sunnyside, Staten Island:1\n",
      "Indian Resturants in Ditmas Park, Brooklyn:3\n",
      "Indian Resturants in Wingate, Brooklyn:0\n",
      "Indian Resturants in Rugby, Brooklyn:0\n",
      "Indian Resturants in Park Hill, Staten Island:1\n",
      "Indian Resturants in Westerleigh, Staten Island:0\n",
      "Indian Resturants in Graniteville, Staten Island:0\n",
      "Indian Resturants in Arlington, Staten Island:0\n",
      "Indian Resturants in Arrochar, Staten Island:0\n",
      "Indian Resturants in Grasmere, Staten Island:0\n",
      "Indian Resturants in Old Town, Staten Island:0\n",
      "Indian Resturants in Dongan Hills, Staten Island:0\n",
      "Indian Resturants in Midland Beach, Staten Island:0\n",
      "Indian Resturants in Grant City, Staten Island:1\n",
      "Indian Resturants in New Dorp Beach, Staten Island:0\n",
      "Indian Resturants in Bay Terrace, Staten Island:0\n",
      "Indian Resturants in Huguenot, Staten Island:0\n",
      "Indian Resturants in Pleasant Plains, Staten Island:0\n",
      "Indian Resturants in Butler Manor, Staten Island:0\n",
      "Indian Resturants in Charleston, Staten Island:0\n",
      "Indian Resturants in Rossville, Staten Island:0\n",
      "Indian Resturants in Arden Heights, Staten Island:0\n",
      "Indian Resturants in Greenridge, Staten Island:0\n",
      "Indian Resturants in Heartland Village, Staten Island:0\n",
      "Indian Resturants in Chelsea, Staten Island:0\n",
      "Indian Resturants in Bloomfield, Staten Island:0\n"
     ]
    },
    {
     "ename": "KeyError",
     "evalue": "'groups'",
     "output_type": "error",
     "traceback": [
      "\u001b[1;31m---------------------------------------------------------------------------\u001b[0m",
      "\u001b[1;31mKeyError\u001b[0m                                  Traceback (most recent call last)",
      "\u001b[1;32m<ipython-input-26-c73d523a60b0>\u001b[0m in \u001b[0;36m<module>\u001b[1;34m\u001b[0m\n\u001b[0;32m      4\u001b[0m \u001b[1;32mfor\u001b[0m \u001b[0mrow\u001b[0m \u001b[1;32min\u001b[0m \u001b[0mnewyork_data\u001b[0m\u001b[1;33m.\u001b[0m\u001b[0mvalues\u001b[0m\u001b[1;33m.\u001b[0m\u001b[0mtolist\u001b[0m\u001b[1;33m(\u001b[0m\u001b[1;33m)\u001b[0m\u001b[1;33m:\u001b[0m\u001b[1;33m\u001b[0m\u001b[1;33m\u001b[0m\u001b[0m\n\u001b[0;32m      5\u001b[0m     \u001b[0mBorough\u001b[0m\u001b[1;33m,\u001b[0m \u001b[0mNeighborhood\u001b[0m\u001b[1;33m,\u001b[0m \u001b[0mLatitude\u001b[0m\u001b[1;33m,\u001b[0m \u001b[0mLongitude\u001b[0m\u001b[1;33m=\u001b[0m\u001b[0mrow\u001b[0m\u001b[1;33m\u001b[0m\u001b[1;33m\u001b[0m\u001b[0m\n\u001b[1;32m----> 6\u001b[1;33m     \u001b[0mvenues\u001b[0m \u001b[1;33m=\u001b[0m \u001b[0mget_venues\u001b[0m\u001b[1;33m(\u001b[0m\u001b[0mLatitude\u001b[0m\u001b[1;33m,\u001b[0m\u001b[0mLongitude\u001b[0m\u001b[1;33m)\u001b[0m\u001b[1;33m\u001b[0m\u001b[1;33m\u001b[0m\u001b[0m\n\u001b[0m\u001b[0;32m      7\u001b[0m     \u001b[0mindian_resturants\u001b[0m\u001b[1;33m=\u001b[0m\u001b[0mvenues\u001b[0m\u001b[1;33m[\u001b[0m\u001b[0mvenues\u001b[0m\u001b[1;33m[\u001b[0m\u001b[1;34m'Category'\u001b[0m\u001b[1;33m]\u001b[0m\u001b[1;33m==\u001b[0m\u001b[1;34m'Indian Restaurant'\u001b[0m\u001b[1;33m]\u001b[0m\u001b[1;33m\u001b[0m\u001b[1;33m\u001b[0m\u001b[0m\n\u001b[0;32m      8\u001b[0m     \u001b[0mprint\u001b[0m\u001b[1;33m(\u001b[0m\u001b[1;34m'Indian Resturants in '\u001b[0m\u001b[1;33m+\u001b[0m\u001b[0mNeighborhood\u001b[0m\u001b[1;33m+\u001b[0m\u001b[1;34m', '\u001b[0m\u001b[1;33m+\u001b[0m\u001b[0mBorough\u001b[0m\u001b[1;33m+\u001b[0m\u001b[1;34m':'\u001b[0m\u001b[1;33m+\u001b[0m\u001b[0mstr\u001b[0m\u001b[1;33m(\u001b[0m\u001b[0mlen\u001b[0m\u001b[1;33m(\u001b[0m\u001b[0mindian_resturants\u001b[0m\u001b[1;33m)\u001b[0m\u001b[1;33m)\u001b[0m\u001b[1;33m)\u001b[0m\u001b[1;33m\u001b[0m\u001b[1;33m\u001b[0m\u001b[0m\n",
      "\u001b[1;32m<ipython-input-22-923cded577e3>\u001b[0m in \u001b[0;36mget_venues\u001b[1;34m(lat, lng)\u001b[0m\n\u001b[0;32m     20\u001b[0m      \u001b[1;31m# get all the data\u001b[0m\u001b[1;33m\u001b[0m\u001b[1;33m\u001b[0m\u001b[1;33m\u001b[0m\u001b[0m\n\u001b[0;32m     21\u001b[0m     \u001b[0mresults\u001b[0m \u001b[1;33m=\u001b[0m \u001b[0mrequests\u001b[0m\u001b[1;33m.\u001b[0m\u001b[0mget\u001b[0m\u001b[1;33m(\u001b[0m\u001b[0murl\u001b[0m\u001b[1;33m)\u001b[0m\u001b[1;33m.\u001b[0m\u001b[0mjson\u001b[0m\u001b[1;33m(\u001b[0m\u001b[1;33m)\u001b[0m\u001b[1;33m\u001b[0m\u001b[1;33m\u001b[0m\u001b[0m\n\u001b[1;32m---> 22\u001b[1;33m     \u001b[0mvenue_data\u001b[0m\u001b[1;33m=\u001b[0m\u001b[0mresults\u001b[0m\u001b[1;33m[\u001b[0m\u001b[1;34m\"response\"\u001b[0m\u001b[1;33m]\u001b[0m\u001b[1;33m[\u001b[0m\u001b[1;34m'groups'\u001b[0m\u001b[1;33m]\u001b[0m\u001b[1;33m[\u001b[0m\u001b[1;36m0\u001b[0m\u001b[1;33m]\u001b[0m\u001b[1;33m[\u001b[0m\u001b[1;34m'items'\u001b[0m\u001b[1;33m]\u001b[0m\u001b[1;33m\u001b[0m\u001b[1;33m\u001b[0m\u001b[0m\n\u001b[0m\u001b[0;32m     23\u001b[0m     \u001b[0mvenue_details\u001b[0m\u001b[1;33m=\u001b[0m\u001b[1;33m[\u001b[0m\u001b[1;33m]\u001b[0m\u001b[1;33m\u001b[0m\u001b[1;33m\u001b[0m\u001b[0m\n\u001b[0;32m     24\u001b[0m     \u001b[1;32mfor\u001b[0m \u001b[0mrow\u001b[0m \u001b[1;32min\u001b[0m \u001b[0mvenue_data\u001b[0m\u001b[1;33m:\u001b[0m\u001b[1;33m\u001b[0m\u001b[1;33m\u001b[0m\u001b[0m\n",
      "\u001b[1;31mKeyError\u001b[0m: 'groups'"
     ]
    }
   ],
   "source": [
    "column_names=['Borough', 'Neighborhood', 'ID','Name']\n",
    "indian_rest_ny=pd.DataFrame(columns=column_names)\n",
    "count=1\n",
    "for row in newyork_data.values.tolist():\n",
    "    Borough, Neighborhood, Latitude, Longitude=row\n",
    "    venues = get_venues(Latitude,Longitude)\n",
    "    indian_resturants=venues[venues['Category']=='Indian Restaurant']   \n",
    "    print('Indian Resturants in '+Neighborhood+', '+Borough+':'+str(len(indian_resturants)))\n",
    "    for resturant_detail in indian_resturants.values.tolist():\n",
    "        id, name , category=resturant_detail\n",
    "        indian_rest_ny = indian_rest_ny.append({'Borough': Borough,\n",
    "                                                'Neighborhood': Neighborhood, \n",
    "                                                'ID': id,\n",
    "                                                'Name' : name\n",
    "                                               }, ignore_index=True)\n",
    "    count+=1\n"
   ]
  },
  {
   "cell_type": "code",
   "execution_count": 27,
   "metadata": {},
   "outputs": [
    {
     "data": {
      "text/html": [
       "<div>\n",
       "<style scoped>\n",
       "    .dataframe tbody tr th:only-of-type {\n",
       "        vertical-align: middle;\n",
       "    }\n",
       "\n",
       "    .dataframe tbody tr th {\n",
       "        vertical-align: top;\n",
       "    }\n",
       "\n",
       "    .dataframe thead th {\n",
       "        text-align: right;\n",
       "    }\n",
       "</style>\n",
       "<table border=\"1\" class=\"dataframe\">\n",
       "  <thead>\n",
       "    <tr style=\"text-align: right;\">\n",
       "      <th></th>\n",
       "      <th>Borough</th>\n",
       "      <th>Neighborhood</th>\n",
       "      <th>ID</th>\n",
       "      <th>Name</th>\n",
       "    </tr>\n",
       "  </thead>\n",
       "  <tbody>\n",
       "    <tr>\n",
       "      <th>0</th>\n",
       "      <td>Bronx</td>\n",
       "      <td>Riverdale</td>\n",
       "      <td>4c04544df423a593ac83d116</td>\n",
       "      <td>Cumin Indian Cuisine</td>\n",
       "    </tr>\n",
       "    <tr>\n",
       "      <th>1</th>\n",
       "      <td>Bronx</td>\n",
       "      <td>Kingsbridge</td>\n",
       "      <td>4c04544df423a593ac83d116</td>\n",
       "      <td>Cumin Indian Cuisine</td>\n",
       "    </tr>\n",
       "    <tr>\n",
       "      <th>2</th>\n",
       "      <td>Bronx</td>\n",
       "      <td>Woodlawn</td>\n",
       "      <td>4c0448d9310fc9b6bf1dc761</td>\n",
       "      <td>Curry Spot</td>\n",
       "    </tr>\n",
       "    <tr>\n",
       "      <th>3</th>\n",
       "      <td>Bronx</td>\n",
       "      <td>Parkchester</td>\n",
       "      <td>4c194631838020a13e78e561</td>\n",
       "      <td>Melanies Roti Bar And Grill</td>\n",
       "    </tr>\n",
       "    <tr>\n",
       "      <th>4</th>\n",
       "      <td>Bronx</td>\n",
       "      <td>Spuyten Duyvil</td>\n",
       "      <td>4c04544df423a593ac83d116</td>\n",
       "      <td>Cumin Indian Cuisine</td>\n",
       "    </tr>\n",
       "  </tbody>\n",
       "</table>\n",
       "</div>"
      ],
      "text/plain": [
       "  Borough    Neighborhood                        ID  \\\n",
       "0   Bronx       Riverdale  4c04544df423a593ac83d116   \n",
       "1   Bronx     Kingsbridge  4c04544df423a593ac83d116   \n",
       "2   Bronx        Woodlawn  4c0448d9310fc9b6bf1dc761   \n",
       "3   Bronx     Parkchester  4c194631838020a13e78e561   \n",
       "4   Bronx  Spuyten Duyvil  4c04544df423a593ac83d116   \n",
       "\n",
       "                          Name  \n",
       "0         Cumin Indian Cuisine  \n",
       "1         Cumin Indian Cuisine  \n",
       "2                   Curry Spot  \n",
       "3  Melanies Roti Bar And Grill  \n",
       "4         Cumin Indian Cuisine  "
      ]
     },
     "execution_count": 27,
     "metadata": {},
     "output_type": "execute_result"
    }
   ],
   "source": [
    "indian_rest_ny.head()"
   ]
  },
  {
   "cell_type": "code",
   "execution_count": 28,
   "metadata": {},
   "outputs": [
    {
     "data": {
      "text/plain": [
       "(126, 4)"
      ]
     },
     "execution_count": 28,
     "metadata": {},
     "output_type": "execute_result"
    }
   ],
   "source": [
    "indian_rest_ny.shape"
   ]
  },
  {
   "cell_type": "markdown",
   "metadata": {},
   "source": [
    "126 restaurants in NewYork city"
   ]
  },
  {
   "cell_type": "code",
   "execution_count": 29,
   "metadata": {},
   "outputs": [
    {
     "data": {
      "image/png": "[encoded data removed]",
      "text/plain": [
       "<Figure size 900x500 with 1 Axes>"
      ]
     },
     "metadata": {
      "needs_background": "light"
     },
     "output_type": "display_data"
    }
   ],
   "source": [
    "plt.figure(figsize=(9,5), dpi = 100)\n",
    "# title\n",
    "plt.title('Indian Resturants Vs Borough')\n",
    "#On x-axis\n",
    "plt.xlabel('Borough', fontsize = 15)\n",
    "#On y-axis\n",
    "plt.ylabel('Number of Indian Resturants', fontsize=15)\n",
    "#giving a bar plot\n",
    "indian_rest_ny.groupby('Borough')['ID'].count().plot(kind='bar')\n",
    "#legend\n",
    "plt.legend()\n",
    "#displays the plot\n",
    "plt.show()"
   ]
  },
  {
   "cell_type": "markdown",
   "metadata": {},
   "source": [
    "We can evidently see Queen has highest number of Indian Restaurants"
   ]
  },
  {
   "cell_type": "code",
   "execution_count": 30,
   "metadata": {},
   "outputs": [
    {
     "data": {
      "image/png": "[encoded data removed]",
      "text/plain": [
       "<Figure size 900x500 with 1 Axes>"
      ]
     },
     "metadata": {
      "needs_background": "light"
     },
     "output_type": "display_data"
    }
   ],
   "source": [
    "plt.figure(figsize=(9,5), dpi = 100)\n",
    "# title\n",
    "plt.title('Number of Indian Resturants for each Neighborhood in New York City')\n",
    "#On x-axis\n",
    "plt.xlabel('Neighborhood', fontsize = 15)\n",
    "#On y-axis\n",
    "plt.ylabel('No.of Indian Resturants', fontsize=15)\n",
    "#giving a bar plot\n",
    "indian_rest_ny.groupby('Neighborhood')['ID'].count().nlargest(5).plot(kind='bar')\n",
    "#legend\n",
    "plt.legend()\n",
    "#displays the plot\n",
    "plt.show()"
   ]
  },
  {
   "cell_type": "markdown",
   "metadata": {},
   "source": [
    "Floral Park has highest number of Indian Restaurants"
   ]
  },
  {
   "cell_type": "code",
   "execution_count": 31,
   "metadata": {},
   "outputs": [
    {
     "data": {
      "text/html": [
       "<div>\n",
       "<style scoped>\n",
       "    .dataframe tbody tr th:only-of-type {\n",
       "        vertical-align: middle;\n",
       "    }\n",
       "\n",
       "    .dataframe tbody tr th {\n",
       "        vertical-align: top;\n",
       "    }\n",
       "\n",
       "    .dataframe thead th {\n",
       "        text-align: right;\n",
       "    }\n",
       "</style>\n",
       "<table border=\"1\" class=\"dataframe\">\n",
       "  <thead>\n",
       "    <tr style=\"text-align: right;\">\n",
       "      <th></th>\n",
       "      <th>Borough</th>\n",
       "      <th>Neighborhood</th>\n",
       "      <th>ID</th>\n",
       "      <th>Name</th>\n",
       "    </tr>\n",
       "  </thead>\n",
       "  <tbody>\n",
       "    <tr>\n",
       "      <th>103</th>\n",
       "      <td>Queens</td>\n",
       "      <td>Floral Park</td>\n",
       "      <td>527ffc0811d2d329d5e49abd</td>\n",
       "      <td>Jackson Diner</td>\n",
       "    </tr>\n",
       "    <tr>\n",
       "      <th>104</th>\n",
       "      <td>Queens</td>\n",
       "      <td>Floral Park</td>\n",
       "      <td>4e4e3e22bd4101d0d7a5c2d1</td>\n",
       "      <td>Kerala Kitchen</td>\n",
       "    </tr>\n",
       "    <tr>\n",
       "      <th>105</th>\n",
       "      <td>Queens</td>\n",
       "      <td>Floral Park</td>\n",
       "      <td>4b647b56f964a520c4b62ae3</td>\n",
       "      <td>Usha Foods &amp; Usha Sweets</td>\n",
       "    </tr>\n",
       "    <tr>\n",
       "      <th>106</th>\n",
       "      <td>Queens</td>\n",
       "      <td>Floral Park</td>\n",
       "      <td>4b787c49f964a5209cd12ee3</td>\n",
       "      <td>Santoor Indian Restaurant</td>\n",
       "    </tr>\n",
       "    <tr>\n",
       "      <th>107</th>\n",
       "      <td>Queens</td>\n",
       "      <td>Floral Park</td>\n",
       "      <td>4c0c01e0bbc676b00d6b4cd5</td>\n",
       "      <td>Mumbai Xpress</td>\n",
       "    </tr>\n",
       "    <tr>\n",
       "      <th>108</th>\n",
       "      <td>Queens</td>\n",
       "      <td>Floral Park</td>\n",
       "      <td>4c76ff35a5676dcb72671721</td>\n",
       "      <td>Flavor Of India</td>\n",
       "    </tr>\n",
       "    <tr>\n",
       "      <th>109</th>\n",
       "      <td>Queens</td>\n",
       "      <td>Floral Park</td>\n",
       "      <td>4c953a7672dd224bd8d1a191</td>\n",
       "      <td>Real Usha Sweets &amp; Snacks Inc.</td>\n",
       "    </tr>\n",
       "    <tr>\n",
       "      <th>110</th>\n",
       "      <td>Queens</td>\n",
       "      <td>Floral Park</td>\n",
       "      <td>4df0f39dd4c04d0392c853ea</td>\n",
       "      <td>Sagar Chinese</td>\n",
       "    </tr>\n",
       "    <tr>\n",
       "      <th>111</th>\n",
       "      <td>Queens</td>\n",
       "      <td>Floral Park</td>\n",
       "      <td>4e6bfe1c7d8b2c711b17bbe5</td>\n",
       "      <td>Surya sweets and snacks</td>\n",
       "    </tr>\n",
       "  </tbody>\n",
       "</table>\n",
       "</div>"
      ],
      "text/plain": [
       "    Borough Neighborhood                        ID  \\\n",
       "103  Queens  Floral Park  527ffc0811d2d329d5e49abd   \n",
       "104  Queens  Floral Park  4e4e3e22bd4101d0d7a5c2d1   \n",
       "105  Queens  Floral Park  4b647b56f964a520c4b62ae3   \n",
       "106  Queens  Floral Park  4b787c49f964a5209cd12ee3   \n",
       "107  Queens  Floral Park  4c0c01e0bbc676b00d6b4cd5   \n",
       "108  Queens  Floral Park  4c76ff35a5676dcb72671721   \n",
       "109  Queens  Floral Park  4c953a7672dd224bd8d1a191   \n",
       "110  Queens  Floral Park  4df0f39dd4c04d0392c853ea   \n",
       "111  Queens  Floral Park  4e6bfe1c7d8b2c711b17bbe5   \n",
       "\n",
       "                               Name  \n",
       "103                   Jackson Diner  \n",
       "104                  Kerala Kitchen  \n",
       "105        Usha Foods & Usha Sweets  \n",
       "106       Santoor Indian Restaurant  \n",
       "107                   Mumbai Xpress  \n",
       "108                 Flavor Of India  \n",
       "109  Real Usha Sweets & Snacks Inc.  \n",
       "110                   Sagar Chinese  \n",
       "111         Surya sweets and snacks  "
      ]
     },
     "execution_count": 31,
     "metadata": {},
     "output_type": "execute_result"
    }
   ],
   "source": [
    "indian_rest_ny[indian_rest_ny['Neighborhood']=='Floral Park']"
   ]
  },
  {
   "cell_type": "markdown",
   "metadata": {},
   "source": [
    "Queens Borough contains more number of restaurants\n"
   ]
  },
  {
   "cell_type": "code",
   "execution_count": 32,
   "metadata": {},
   "outputs": [
    {
     "name": "stdout",
     "output_type": "stream",
     "text": [
      "                         ID                  Name  Likes  Rating  Tips\n",
      "0  4c04544df423a593ac83d116  Cumin Indian Cuisine     13     6.5     9\n",
      "( 1 / 126 ) processed\n",
      "                         ID                  Name  Likes  Rating  Tips\n",
      "0  4c04544df423a593ac83d116  Cumin Indian Cuisine     13     6.5     9\n",
      "( 2 / 126 ) processed\n",
      "                         ID        Name  Likes  Rating  Tips\n",
      "0  4c0448d9310fc9b6bf1dc761  Curry Spot      4     7.6    11\n",
      "( 3 / 126 ) processed\n",
      "                         ID                         Name  Likes  Rating  Tips\n",
      "0  4c194631838020a13e78e561  Melanies Roti Bar And Grill      3     6.0     2\n",
      "( 4 / 126 ) processed\n",
      "                         ID                  Name  Likes  Rating  Tips\n",
      "0  4c04544df423a593ac83d116  Cumin Indian Cuisine     13     6.5     9\n",
      "( 5 / 126 ) processed\n",
      "                         ID         Name  Likes  Rating  Tips\n",
      "0  551b7f75498e86c00a0ed2e1  Hungry Bird      8     6.8     3\n",
      "( 6 / 126 ) processed\n",
      "                         ID                         Name  Likes  Rating  Tips\n",
      "0  4c194631838020a13e78e561  Melanies Roti Bar And Grill      3     6.0     2\n",
      "( 7 / 126 ) processed\n",
      "                         ID       Name  Likes  Rating  Tips\n",
      "0  4b5a4dc8f964a520a2bb28e3  Taj Mahal     38     8.3    26\n",
      "( 8 / 126 ) processed\n",
      "                         ID          Name  Likes  Rating  Tips\n",
      "0  4af0d31bf964a5207ddf21e3  Pak Nasheman      9     7.5     4\n",
      "( 9 / 126 ) processed\n",
      "                         ID          Name  Likes  Rating  Tips\n",
      "0  52213c4211d295d4c57a607c  Ashoka Grill      8     7.3    14\n",
      "( 10 / 126 ) processed\n",
      "                         ID                Name  Likes  Rating  Tips\n",
      "0  564d283d498e6e851df79d87  Great Indian Curry      3     6.5     2\n",
      "( 11 / 126 ) processed\n",
      "                         ID          Name  Likes  Rating  Tips\n",
      "0  512a9ea9e4b004fb8eeb84e5  Silver Krust     12     8.3     3\n",
      "( 12 / 126 ) processed\n",
      "                         ID       Name  Likes  Rating  Tips\n",
      "0  4db0f4371e729fcc56497f20  Mashallah     19     7.6     7\n",
      "( 13 / 126 ) processed\n",
      "                         ID                          Name  Likes  Rating  Tips\n",
      "0  4b718914f964a520c04b2de3  Madina Restaurant and Sweets     17     6.9    12\n",
      "( 14 / 126 ) processed\n",
      "                         ID                       Name  Likes  Rating  Tips\n",
      "0  52f18573498ec2c34e830ffd  Kanan's Indian Restaurant     23     7.5     8\n",
      "( 15 / 126 ) processed\n",
      "                         ID         Name  Likes  Rating  Tips\n",
      "0  57596dad498e732300496b23  Dosa Royale     73     8.7    22\n",
      "( 16 / 126 ) processed\n",
      "                         ID         Name  Likes  Rating  Tips\n",
      "0  57596dad498e732300496b23  Dosa Royale     73     8.7    22\n",
      "( 17 / 126 ) processed\n",
      "                         ID           Name  Likes  Rating  Tips\n",
      "0  568d3902498e619efcbc3f58  Spice & Grill     19     7.8     6\n",
      "( 18 / 126 ) processed\n",
      "                         ID                        Name  Likes  Rating  Tips\n",
      "0  4bb93b70cf2fc9b6fe64a002  Gandhi Fine Indian Cuisine     81     8.7    47\n",
      "( 19 / 126 ) processed\n",
      "                         ID             Name  Likes  Rating  Tips\n",
      "0  4afdf78bf964a520862c22e3  King of Tandoor     25     7.1    23\n",
      "( 20 / 126 ) processed\n",
      "                         ID     Name  Likes  Rating  Tips\n",
      "0  4ec80587d3e3e131f2e72835  Bayleaf      7     7.2     7\n",
      "( 21 / 126 ) processed\n",
      "                         ID             Name  Likes  Rating  Tips\n",
      "0  5539753f498edbace4746b67  Tandoori Masala     12     7.9     2\n",
      "( 22 / 126 ) processed\n",
      "                         ID           Name  Likes  Rating  Tips\n",
      "0  4f6cae2ee4b0d4a5afcef5c0  Delhi Heights     22     8.2     8\n",
      "( 23 / 126 ) processed\n",
      "                         ID                     Name  Likes  Rating  Tips\n",
      "0  519ff6c8498e1300ddcbd45c  Anarkali Indian Cuisine     14     7.5     8\n",
      "( 24 / 126 ) processed\n",
      "                         ID       Name  Likes  Rating  Tips\n",
      "0  4db0f4371e729fcc56497f20  Mashallah     19     7.6     7\n",
      "( 25 / 126 ) processed\n",
      "                         ID                Name  Likes  Rating  Tips\n",
      "0  5631511b498e3d6d7e0a4df0  Tikka Indian Grill     94     8.6    27\n",
      "( 26 / 126 ) processed\n",
      "                         ID                Name  Likes  Rating  Tips\n",
      "0  5631511b498e3d6d7e0a4df0  Tikka Indian Grill     94     8.6    27\n",
      "( 27 / 126 ) processed\n",
      "                         ID                      Name  Likes  Rating  Tips\n",
      "0  4ae7876ef964a5201eac21e3  Kismat Indian Restaurant     45     7.8    24\n",
      "( 28 / 126 ) processed\n",
      "                         ID                           Name  Likes  Rating  \\\n",
      "0  54c2bd96498eaf5142e3fe92  Clove Indian Restaurant & Bar     29     7.6   \n",
      "\n",
      "   Tips  \n",
      "0    15  \n",
      "( 29 / 126 ) processed\n",
      "                         ID           Name  Likes  Rating  Tips\n",
      "0  5914ff32b23dfa207eca38de  Mumbai Masala     13     7.2     6\n",
      "( 30 / 126 ) processed\n",
      "                         ID                 Name  Likes  Rating  Tips\n",
      "0  529d382a11d2dd5ef107e641  Chapati House - NYC     73     7.8    18\n",
      "( 31 / 126 ) processed\n",
      "                         ID                           Name  Likes  Rating  \\\n",
      "0  54c2bd96498eaf5142e3fe92  Clove Indian Restaurant & Bar     29     7.6   \n",
      "\n",
      "   Tips  \n",
      "0    15  \n",
      "( 32 / 126 ) processed\n",
      "                         ID          Name  Likes  Rating  Tips\n",
      "0  56d87f3d498ee215abee5724  Delhi Masala     13     8.6     3\n",
      "( 33 / 126 ) processed\n",
      "                         ID                           Name  Likes  Rating  \\\n",
      "0  54c2bd96498eaf5142e3fe92  Clove Indian Restaurant & Bar     29     7.6   \n",
      "\n",
      "   Tips  \n",
      "0    15  \n",
      "( 34 / 126 ) processed\n",
      "                         ID      Name  Likes  Rating  Tips\n",
      "0  519fe6f5498e30595d370c44  Bawarchi      9     7.7     4\n",
      "( 35 / 126 ) processed\n",
      "                         ID            Name  Likes  Rating  Tips\n",
      "0  5272ca4511d22488f6895caf  Drunken Munkey    207     8.5    61\n",
      "( 36 / 126 ) processed\n",
      "                         ID              Name  Likes  Rating  Tips\n",
      "0  4fe4fb50c2eee335e4fea69d  Moti Mahal Delux    184     8.4    81\n",
      "( 37 / 126 ) processed\n",
      "                         ID           Name  Likes  Rating  Tips\n",
      "0  4b0dec08f964a520ae5223e3  Alachi Masala     18     7.9    17\n",
      "( 38 / 126 ) processed\n",
      "                         ID    Name  Likes  Rating  Tips\n",
      "0  42489a80f964a5208b201fe3  Swagat    105     8.4    38\n",
      "( 39 / 126 ) processed\n",
      "                         ID    Name  Likes  Rating  Tips\n",
      "0  591890f43abcaf1ddca66e85  Ashoka     19     8.2     9\n",
      "( 40 / 126 ) processed\n",
      "                         ID                   Name  Likes  Rating  Tips\n",
      "0  49d91c12f964a520015e1fe3  The Kati Roll Company    835     8.8   259\n",
      "( 41 / 126 ) processed\n",
      "                         ID                   Name  Likes  Rating  Tips\n",
      "0  59fcd48c464d6567ed2f5e37  The Kati Roll Company     18     8.7     2\n",
      "( 42 / 126 ) processed\n",
      "                         ID               Name  Likes  Rating  Tips\n",
      "0  4b4aab62f964a520978c26e3  Dil-e Punjab Deli    104     8.7    42\n",
      "( 43 / 126 ) processed\n",
      "                         ID                Name  Likes  Rating  Tips\n",
      "0  5b5a2c9e66f3cd002ca0aab5  The Drunken Munkey     24     8.9     3\n",
      "( 44 / 126 ) processed\n",
      "                         ID              Name  Likes  Rating  Tips\n",
      "0  4bbb9dbded7776b0e1ad3e51  Tamarind TriBeCa    587     9.1   146\n",
      "( 45 / 126 ) processed\n",
      "                         ID                Name  Likes  Rating  Tips\n",
      "0  5b5a2c9e66f3cd002ca0aab5  The Drunken Munkey     24     8.9     3\n",
      "( 46 / 126 ) processed\n",
      "                         ID  Name  Likes  Rating  Tips\n",
      "0  591794df2be42556988e4a8e  Rahi    100     8.9    16\n",
      "( 47 / 126 ) processed\n",
      "                         ID        Name  Likes  Rating  Tips\n",
      "0  4d24b812836f5481518645f7  Doaba Deli     41     7.5    13\n",
      "( 48 / 126 ) processed\n",
      "                         ID              Name  Likes  Rating  Tips\n",
      "0  424de080f964a520ae201fe3  Manhattan Valley     42     7.9    30\n",
      "( 49 / 126 ) processed\n",
      "                         ID   Name  Likes  Rating  Tips\n",
      "0  538ba1f2498e279098e4210a  Awadh     49     8.0    13\n",
      "( 50 / 126 ) processed\n"
     ]
    },
    {
     "ename": "KeyError",
     "evalue": "'venue'",
     "output_type": "error",
     "traceback": [
      "\u001b[1;31m---------------------------------------------------------------------------\u001b[0m",
      "\u001b[1;31mKeyError\u001b[0m                                  Traceback (most recent call last)",
      "\u001b[1;32m<ipython-input-32-10411ff430c3>\u001b[0m in \u001b[0;36m<module>\u001b[1;34m\u001b[0m\n\u001b[0;32m      8\u001b[0m     \u001b[0mBorough\u001b[0m\u001b[1;33m,\u001b[0m\u001b[0mNeighborhood\u001b[0m\u001b[1;33m,\u001b[0m\u001b[0mID\u001b[0m\u001b[1;33m,\u001b[0m\u001b[0mName\u001b[0m\u001b[1;33m=\u001b[0m\u001b[0mrow\u001b[0m\u001b[1;33m\u001b[0m\u001b[1;33m\u001b[0m\u001b[0m\n\u001b[0;32m      9\u001b[0m     \u001b[1;32mtry\u001b[0m\u001b[1;33m:\u001b[0m\u001b[1;33m\u001b[0m\u001b[1;33m\u001b[0m\u001b[0m\n\u001b[1;32m---> 10\u001b[1;33m         \u001b[0mvenue_details\u001b[0m\u001b[1;33m=\u001b[0m\u001b[0mget_venue_details\u001b[0m\u001b[1;33m(\u001b[0m\u001b[0mID\u001b[0m\u001b[1;33m)\u001b[0m\u001b[1;33m\u001b[0m\u001b[1;33m\u001b[0m\u001b[0m\n\u001b[0m\u001b[0;32m     11\u001b[0m         \u001b[0mprint\u001b[0m\u001b[1;33m(\u001b[0m\u001b[0mvenue_details\u001b[0m\u001b[1;33m)\u001b[0m\u001b[1;33m\u001b[0m\u001b[1;33m\u001b[0m\u001b[0m\n\u001b[0;32m     12\u001b[0m         \u001b[0mid\u001b[0m\u001b[1;33m,\u001b[0m\u001b[0mname\u001b[0m\u001b[1;33m,\u001b[0m\u001b[0mlikes\u001b[0m\u001b[1;33m,\u001b[0m\u001b[0mrating\u001b[0m\u001b[1;33m,\u001b[0m\u001b[0mtips\u001b[0m\u001b[1;33m=\u001b[0m\u001b[0mvenue_details\u001b[0m\u001b[1;33m.\u001b[0m\u001b[0mvalues\u001b[0m\u001b[1;33m.\u001b[0m\u001b[0mtolist\u001b[0m\u001b[1;33m(\u001b[0m\u001b[1;33m)\u001b[0m\u001b[1;33m[\u001b[0m\u001b[1;36m0\u001b[0m\u001b[1;33m]\u001b[0m\u001b[1;33m\u001b[0m\u001b[1;33m\u001b[0m\u001b[0m\n",
      "\u001b[1;32m<ipython-input-25-db5be2caffe5>\u001b[0m in \u001b[0;36mget_venue_details\u001b[1;34m(venue_id)\u001b[0m\n\u001b[0;32m     14\u001b[0m     \u001b[1;31m# get all the data\u001b[0m\u001b[1;33m\u001b[0m\u001b[1;33m\u001b[0m\u001b[1;33m\u001b[0m\u001b[0m\n\u001b[0;32m     15\u001b[0m     \u001b[0mresults\u001b[0m \u001b[1;33m=\u001b[0m \u001b[0mrequests\u001b[0m\u001b[1;33m.\u001b[0m\u001b[0mget\u001b[0m\u001b[1;33m(\u001b[0m\u001b[0murl\u001b[0m\u001b[1;33m)\u001b[0m\u001b[1;33m.\u001b[0m\u001b[0mjson\u001b[0m\u001b[1;33m(\u001b[0m\u001b[1;33m)\u001b[0m\u001b[1;33m\u001b[0m\u001b[1;33m\u001b[0m\u001b[0m\n\u001b[1;32m---> 16\u001b[1;33m     \u001b[0mvenue_data\u001b[0m\u001b[1;33m=\u001b[0m\u001b[0mresults\u001b[0m\u001b[1;33m[\u001b[0m\u001b[1;34m'response'\u001b[0m\u001b[1;33m]\u001b[0m\u001b[1;33m[\u001b[0m\u001b[1;34m'venue'\u001b[0m\u001b[1;33m]\u001b[0m\u001b[1;33m\u001b[0m\u001b[1;33m\u001b[0m\u001b[0m\n\u001b[0m\u001b[0;32m     17\u001b[0m     \u001b[0mvenue_details\u001b[0m\u001b[1;33m=\u001b[0m\u001b[1;33m[\u001b[0m\u001b[1;33m]\u001b[0m\u001b[1;33m\u001b[0m\u001b[1;33m\u001b[0m\u001b[0m\n\u001b[0;32m     18\u001b[0m     \u001b[1;32mtry\u001b[0m\u001b[1;33m:\u001b[0m\u001b[1;33m\u001b[0m\u001b[1;33m\u001b[0m\u001b[0m\n",
      "\u001b[1;31mKeyError\u001b[0m: 'venue'"
     ]
    }
   ],
   "source": [
    "# prepare neighborhood list that contains indian resturants\n",
    "column_names=['Borough', 'Neighborhood', 'ID','Name','Likes','Rating','Tips']\n",
    "indian_rest_stats_ny=pd.DataFrame(columns=column_names)\n",
    "count=1\n",
    "\n",
    "\n",
    "for row in indian_rest_ny.values.tolist():\n",
    "    Borough,Neighborhood,ID,Name=row\n",
    "    try:\n",
    "        venue_details=get_venue_details(ID)\n",
    "        print(venue_details)\n",
    "        id,name,likes,rating,tips=venue_details.values.tolist()[0]\n",
    "    except IndexError:\n",
    "        print('No data available for id=',ID)\n",
    "        # we will assign 0 value for these resturants as they may have been \n",
    "        #recently opened or details does not exist in FourSquare Database\n",
    "        id,name,likes,rating,tips=[0]*5\n",
    "    print('(',count,'/',len(indian_rest_ny),')','processed')\n",
    "    indian_rest_stats_ny = indian_rest_stats_ny.append({'Borough': Borough,\n",
    "                                                'Neighborhood': Neighborhood, \n",
    "                                                'ID': id,\n",
    "                                                'Name' : name,\n",
    "                                                'Likes' : likes,\n",
    "                                                'Rating' : rating,\n",
    "                                                'Tips' : tips\n",
    "                                               }, ignore_index=True)\n",
    "    count+=1"
   ]
  },
  {
   "cell_type": "code",
   "execution_count": 33,
   "metadata": {},
   "outputs": [
    {
     "data": {
      "text/html": [
       "<div>\n",
       "<style scoped>\n",
       "    .dataframe tbody tr th:only-of-type {\n",
       "        vertical-align: middle;\n",
       "    }\n",
       "\n",
       "    .dataframe tbody tr th {\n",
       "        vertical-align: top;\n",
       "    }\n",
       "\n",
       "    .dataframe thead th {\n",
       "        text-align: right;\n",
       "    }\n",
       "</style>\n",
       "<table border=\"1\" class=\"dataframe\">\n",
       "  <thead>\n",
       "    <tr style=\"text-align: right;\">\n",
       "      <th></th>\n",
       "      <th>Borough</th>\n",
       "      <th>Neighborhood</th>\n",
       "      <th>ID</th>\n",
       "      <th>Name</th>\n",
       "      <th>Likes</th>\n",
       "      <th>Rating</th>\n",
       "      <th>Tips</th>\n",
       "    </tr>\n",
       "  </thead>\n",
       "  <tbody>\n",
       "    <tr>\n",
       "      <th>0</th>\n",
       "      <td>Bronx</td>\n",
       "      <td>Riverdale</td>\n",
       "      <td>4c04544df423a593ac83d116</td>\n",
       "      <td>Cumin Indian Cuisine</td>\n",
       "      <td>13</td>\n",
       "      <td>6.5</td>\n",
       "      <td>9</td>\n",
       "    </tr>\n",
       "    <tr>\n",
       "      <th>1</th>\n",
       "      <td>Bronx</td>\n",
       "      <td>Kingsbridge</td>\n",
       "      <td>4c04544df423a593ac83d116</td>\n",
       "      <td>Cumin Indian Cuisine</td>\n",
       "      <td>13</td>\n",
       "      <td>6.5</td>\n",
       "      <td>9</td>\n",
       "    </tr>\n",
       "    <tr>\n",
       "      <th>2</th>\n",
       "      <td>Bronx</td>\n",
       "      <td>Woodlawn</td>\n",
       "      <td>4c0448d9310fc9b6bf1dc761</td>\n",
       "      <td>Curry Spot</td>\n",
       "      <td>4</td>\n",
       "      <td>7.6</td>\n",
       "      <td>11</td>\n",
       "    </tr>\n",
       "    <tr>\n",
       "      <th>3</th>\n",
       "      <td>Bronx</td>\n",
       "      <td>Parkchester</td>\n",
       "      <td>4c194631838020a13e78e561</td>\n",
       "      <td>Melanies Roti Bar And Grill</td>\n",
       "      <td>3</td>\n",
       "      <td>6.0</td>\n",
       "      <td>2</td>\n",
       "    </tr>\n",
       "    <tr>\n",
       "      <th>4</th>\n",
       "      <td>Bronx</td>\n",
       "      <td>Spuyten Duyvil</td>\n",
       "      <td>4c04544df423a593ac83d116</td>\n",
       "      <td>Cumin Indian Cuisine</td>\n",
       "      <td>13</td>\n",
       "      <td>6.5</td>\n",
       "      <td>9</td>\n",
       "    </tr>\n",
       "  </tbody>\n",
       "</table>\n",
       "</div>"
      ],
      "text/plain": [
       "  Borough    Neighborhood                        ID  \\\n",
       "0   Bronx       Riverdale  4c04544df423a593ac83d116   \n",
       "1   Bronx     Kingsbridge  4c04544df423a593ac83d116   \n",
       "2   Bronx        Woodlawn  4c0448d9310fc9b6bf1dc761   \n",
       "3   Bronx     Parkchester  4c194631838020a13e78e561   \n",
       "4   Bronx  Spuyten Duyvil  4c04544df423a593ac83d116   \n",
       "\n",
       "                          Name Likes  Rating Tips  \n",
       "0         Cumin Indian Cuisine    13     6.5    9  \n",
       "1         Cumin Indian Cuisine    13     6.5    9  \n",
       "2                   Curry Spot     4     7.6   11  \n",
       "3  Melanies Roti Bar And Grill     3     6.0    2  \n",
       "4         Cumin Indian Cuisine    13     6.5    9  "
      ]
     },
     "execution_count": 33,
     "metadata": {},
     "output_type": "execute_result"
    }
   ],
   "source": [
    "indian_rest_stats_ny.head()"
   ]
  },
  {
   "cell_type": "code",
   "execution_count": 34,
   "metadata": {},
   "outputs": [
    {
     "data": {
      "text/plain": [
       "(126, 4)"
      ]
     },
     "execution_count": 34,
     "metadata": {},
     "output_type": "execute_result"
    }
   ],
   "source": [
    "indian_rest_ny.shape"
   ]
  },
  {
   "cell_type": "code",
   "execution_count": 35,
   "metadata": {},
   "outputs": [],
   "source": [
    "indian_rest_stats_ny.to_csv('indian_rest_stats_ny.csv', index=False)"
   ]
  },
  {
   "cell_type": "code",
   "execution_count": 36,
   "metadata": {},
   "outputs": [],
   "source": [
    "indian_rest_stats_ny_csv=pd.read_csv('indian_rest_stats_ny.csv')"
   ]
  },
  {
   "cell_type": "code",
   "execution_count": 37,
   "metadata": {},
   "outputs": [
    {
     "data": {
      "text/plain": [
       "(50, 7)"
      ]
     },
     "execution_count": 37,
     "metadata": {},
     "output_type": "execute_result"
    }
   ],
   "source": [
    "indian_rest_stats_ny_csv.shape"
   ]
  },
  {
   "cell_type": "code",
   "execution_count": 38,
   "metadata": {},
   "outputs": [
    {
     "data": {
      "text/html": [
       "<div>\n",
       "<style scoped>\n",
       "    .dataframe tbody tr th:only-of-type {\n",
       "        vertical-align: middle;\n",
       "    }\n",
       "\n",
       "    .dataframe tbody tr th {\n",
       "        vertical-align: top;\n",
       "    }\n",
       "\n",
       "    .dataframe thead th {\n",
       "        text-align: right;\n",
       "    }\n",
       "</style>\n",
       "<table border=\"1\" class=\"dataframe\">\n",
       "  <thead>\n",
       "    <tr style=\"text-align: right;\">\n",
       "      <th></th>\n",
       "      <th>Borough</th>\n",
       "      <th>Neighborhood</th>\n",
       "      <th>ID</th>\n",
       "      <th>Name</th>\n",
       "      <th>Likes</th>\n",
       "      <th>Rating</th>\n",
       "      <th>Tips</th>\n",
       "    </tr>\n",
       "  </thead>\n",
       "  <tbody>\n",
       "    <tr>\n",
       "      <th>0</th>\n",
       "      <td>Bronx</td>\n",
       "      <td>Riverdale</td>\n",
       "      <td>4c04544df423a593ac83d116</td>\n",
       "      <td>Cumin Indian Cuisine</td>\n",
       "      <td>13</td>\n",
       "      <td>6.5</td>\n",
       "      <td>9</td>\n",
       "    </tr>\n",
       "    <tr>\n",
       "      <th>1</th>\n",
       "      <td>Bronx</td>\n",
       "      <td>Kingsbridge</td>\n",
       "      <td>4c04544df423a593ac83d116</td>\n",
       "      <td>Cumin Indian Cuisine</td>\n",
       "      <td>13</td>\n",
       "      <td>6.5</td>\n",
       "      <td>9</td>\n",
       "    </tr>\n",
       "    <tr>\n",
       "      <th>2</th>\n",
       "      <td>Bronx</td>\n",
       "      <td>Woodlawn</td>\n",
       "      <td>4c0448d9310fc9b6bf1dc761</td>\n",
       "      <td>Curry Spot</td>\n",
       "      <td>4</td>\n",
       "      <td>7.6</td>\n",
       "      <td>11</td>\n",
       "    </tr>\n",
       "    <tr>\n",
       "      <th>3</th>\n",
       "      <td>Bronx</td>\n",
       "      <td>Parkchester</td>\n",
       "      <td>4c194631838020a13e78e561</td>\n",
       "      <td>Melanies Roti Bar And Grill</td>\n",
       "      <td>3</td>\n",
       "      <td>6.0</td>\n",
       "      <td>2</td>\n",
       "    </tr>\n",
       "    <tr>\n",
       "      <th>4</th>\n",
       "      <td>Bronx</td>\n",
       "      <td>Spuyten Duyvil</td>\n",
       "      <td>4c04544df423a593ac83d116</td>\n",
       "      <td>Cumin Indian Cuisine</td>\n",
       "      <td>13</td>\n",
       "      <td>6.5</td>\n",
       "      <td>9</td>\n",
       "    </tr>\n",
       "  </tbody>\n",
       "</table>\n",
       "</div>"
      ],
      "text/plain": [
       "  Borough    Neighborhood                        ID  \\\n",
       "0   Bronx       Riverdale  4c04544df423a593ac83d116   \n",
       "1   Bronx     Kingsbridge  4c04544df423a593ac83d116   \n",
       "2   Bronx        Woodlawn  4c0448d9310fc9b6bf1dc761   \n",
       "3   Bronx     Parkchester  4c194631838020a13e78e561   \n",
       "4   Bronx  Spuyten Duyvil  4c04544df423a593ac83d116   \n",
       "\n",
       "                          Name  Likes  Rating  Tips  \n",
       "0         Cumin Indian Cuisine     13     6.5     9  \n",
       "1         Cumin Indian Cuisine     13     6.5     9  \n",
       "2                   Curry Spot      4     7.6    11  \n",
       "3  Melanies Roti Bar And Grill      3     6.0     2  \n",
       "4         Cumin Indian Cuisine     13     6.5     9  "
      ]
     },
     "execution_count": 38,
     "metadata": {},
     "output_type": "execute_result"
    }
   ],
   "source": [
    "indian_rest_stats_ny_csv.head()"
   ]
  },
  {
   "cell_type": "code",
   "execution_count": 39,
   "metadata": {},
   "outputs": [
    {
     "name": "stdout",
     "output_type": "stream",
     "text": [
      "<class 'pandas.core.frame.DataFrame'>\n",
      "RangeIndex: 50 entries, 0 to 49\n",
      "Data columns (total 7 columns):\n",
      "Borough         50 non-null object\n",
      "Neighborhood    50 non-null object\n",
      "ID              50 non-null object\n",
      "Name            50 non-null object\n",
      "Likes           50 non-null object\n",
      "Rating          50 non-null float64\n",
      "Tips            50 non-null object\n",
      "dtypes: float64(1), object(6)\n",
      "memory usage: 2.8+ KB\n"
     ]
    }
   ],
   "source": [
    "indian_rest_stats_ny.info()"
   ]
  },
  {
   "cell_type": "code",
   "execution_count": 40,
   "metadata": {},
   "outputs": [],
   "source": [
    "indian_rest_stats_ny['Likes']=indian_rest_stats_ny['Likes'].astype('float64')"
   ]
  },
  {
   "cell_type": "code",
   "execution_count": 41,
   "metadata": {},
   "outputs": [],
   "source": [
    "indian_rest_stats_ny['Tips']=indian_rest_stats_ny['Tips'].astype('float64')"
   ]
  },
  {
   "cell_type": "code",
   "execution_count": 42,
   "metadata": {},
   "outputs": [
    {
     "name": "stdout",
     "output_type": "stream",
     "text": [
      "<class 'pandas.core.frame.DataFrame'>\n",
      "RangeIndex: 50 entries, 0 to 49\n",
      "Data columns (total 7 columns):\n",
      "Borough         50 non-null object\n",
      "Neighborhood    50 non-null object\n",
      "ID              50 non-null object\n",
      "Name            50 non-null object\n",
      "Likes           50 non-null float64\n",
      "Rating          50 non-null float64\n",
      "Tips            50 non-null float64\n",
      "dtypes: float64(3), object(4)\n",
      "memory usage: 2.8+ KB\n"
     ]
    }
   ],
   "source": [
    "indian_rest_stats_ny.info()"
   ]
  },
  {
   "cell_type": "code",
   "execution_count": 43,
   "metadata": {},
   "outputs": [
    {
     "data": {
      "text/plain": [
       "Borough                        Manhattan\n",
       "Neighborhood                     Midtown\n",
       "ID              49d91c12f964a520015e1fe3\n",
       "Name               The Kati Roll Company\n",
       "Likes                                835\n",
       "Rating                               8.8\n",
       "Tips                                 259\n",
       "Name: 40, dtype: object"
      ]
     },
     "execution_count": 43,
     "metadata": {},
     "output_type": "execute_result"
    }
   ],
   "source": [
    "# Resturant with maximum Likes\n",
    "indian_rest_stats_ny.iloc[indian_rest_stats_ny['Likes'].idxmax()]"
   ]
  },
  {
   "cell_type": "code",
   "execution_count": 44,
   "metadata": {},
   "outputs": [
    {
     "data": {
      "text/plain": [
       "Borough                        Manhattan\n",
       "Neighborhood                     Tribeca\n",
       "ID              4bbb9dbded7776b0e1ad3e51\n",
       "Name                    Tamarind TriBeCa\n",
       "Likes                                587\n",
       "Rating                               9.1\n",
       "Tips                                 146\n",
       "Name: 44, dtype: object"
      ]
     },
     "execution_count": 44,
     "metadata": {},
     "output_type": "execute_result"
    }
   ],
   "source": [
    "# Resturant with maximum Rating\n",
    "indian_rest_stats_ny.iloc[indian_rest_stats_ny['Rating'].idxmax()]"
   ]
  },
  {
   "cell_type": "code",
   "execution_count": 45,
   "metadata": {},
   "outputs": [
    {
     "data": {
      "text/plain": [
       "Borough                        Manhattan\n",
       "Neighborhood                     Midtown\n",
       "ID              49d91c12f964a520015e1fe3\n",
       "Name               The Kati Roll Company\n",
       "Likes                                835\n",
       "Rating                               8.8\n",
       "Tips                                 259\n",
       "Name: 40, dtype: object"
      ]
     },
     "execution_count": 45,
     "metadata": {},
     "output_type": "execute_result"
    }
   ],
   "source": [
    "# Resturant with maximum Tips\n",
    "indian_rest_stats_ny.iloc[indian_rest_stats_ny['Tips'].idxmax()]"
   ]
  },
  {
   "cell_type": "code",
   "execution_count": 46,
   "metadata": {},
   "outputs": [],
   "source": [
    "ny_neighborhood_stats=indian_rest_stats_ny.groupby('Neighborhood',as_index=False).mean()[['Neighborhood','Rating']]\n",
    "ny_neighborhood_stats.columns=['Neighborhood','Average Rating']"
   ]
  },
  {
   "cell_type": "code",
   "execution_count": 47,
   "metadata": {},
   "outputs": [
    {
     "data": {
      "text/html": [
       "<div>\n",
       "<style scoped>\n",
       "    .dataframe tbody tr th:only-of-type {\n",
       "        vertical-align: middle;\n",
       "    }\n",
       "\n",
       "    .dataframe tbody tr th {\n",
       "        vertical-align: top;\n",
       "    }\n",
       "\n",
       "    .dataframe thead th {\n",
       "        text-align: right;\n",
       "    }\n",
       "</style>\n",
       "<table border=\"1\" class=\"dataframe\">\n",
       "  <thead>\n",
       "    <tr style=\"text-align: right;\">\n",
       "      <th></th>\n",
       "      <th>Neighborhood</th>\n",
       "      <th>Average Rating</th>\n",
       "    </tr>\n",
       "  </thead>\n",
       "  <tbody>\n",
       "    <tr>\n",
       "      <th>28</th>\n",
       "      <td>Tribeca</td>\n",
       "      <td>9.1</td>\n",
       "    </tr>\n",
       "    <tr>\n",
       "      <th>32</th>\n",
       "      <td>West Village</td>\n",
       "      <td>8.9</td>\n",
       "    </tr>\n",
       "    <tr>\n",
       "      <th>11</th>\n",
       "      <td>Greenwich Village</td>\n",
       "      <td>8.9</td>\n",
       "    </tr>\n",
       "    <tr>\n",
       "      <th>17</th>\n",
       "      <td>Midtown</td>\n",
       "      <td>8.8</td>\n",
       "    </tr>\n",
       "    <tr>\n",
       "      <th>9</th>\n",
       "      <td>Fort Greene</td>\n",
       "      <td>8.7</td>\n",
       "    </tr>\n",
       "    <tr>\n",
       "      <th>3</th>\n",
       "      <td>Chelsea</td>\n",
       "      <td>8.7</td>\n",
       "    </tr>\n",
       "    <tr>\n",
       "      <th>18</th>\n",
       "      <td>Murray Hill</td>\n",
       "      <td>8.7</td>\n",
       "    </tr>\n",
       "    <tr>\n",
       "      <th>26</th>\n",
       "      <td>South Side</td>\n",
       "      <td>8.6</td>\n",
       "    </tr>\n",
       "    <tr>\n",
       "      <th>19</th>\n",
       "      <td>North Side</td>\n",
       "      <td>8.6</td>\n",
       "    </tr>\n",
       "    <tr>\n",
       "      <th>34</th>\n",
       "      <td>Yorkville</td>\n",
       "      <td>8.5</td>\n",
       "    </tr>\n",
       "  </tbody>\n",
       "</table>\n",
       "</div>"
      ],
      "text/plain": [
       "         Neighborhood  Average Rating\n",
       "28            Tribeca             9.1\n",
       "32       West Village             8.9\n",
       "11  Greenwich Village             8.9\n",
       "17            Midtown             8.8\n",
       "9         Fort Greene             8.7\n",
       "3             Chelsea             8.7\n",
       "18        Murray Hill             8.7\n",
       "26         South Side             8.6\n",
       "19         North Side             8.6\n",
       "34          Yorkville             8.5"
      ]
     },
     "execution_count": 47,
     "metadata": {},
     "output_type": "execute_result"
    }
   ],
   "source": [
    "ny_neighborhood_stats.sort_values(['Average Rating'],ascending=False).head(10)"
   ]
  },
  {
   "cell_type": "code",
   "execution_count": 48,
   "metadata": {},
   "outputs": [],
   "source": [
    "ny_borough_stats=indian_rest_stats_ny.groupby('Borough',as_index=False).mean()[['Borough','Rating']]\n",
    "ny_borough_stats.columns=['Borough','Average Rating']"
   ]
  },
  {
   "cell_type": "code",
   "execution_count": 49,
   "metadata": {},
   "outputs": [
    {
     "data": {
      "text/html": [
       "<div>\n",
       "<style scoped>\n",
       "    .dataframe tbody tr th:only-of-type {\n",
       "        vertical-align: middle;\n",
       "    }\n",
       "\n",
       "    .dataframe tbody tr th {\n",
       "        vertical-align: top;\n",
       "    }\n",
       "\n",
       "    .dataframe thead th {\n",
       "        text-align: right;\n",
       "    }\n",
       "</style>\n",
       "<table border=\"1\" class=\"dataframe\">\n",
       "  <thead>\n",
       "    <tr style=\"text-align: right;\">\n",
       "      <th></th>\n",
       "      <th>Borough</th>\n",
       "      <th>Average Rating</th>\n",
       "    </tr>\n",
       "  </thead>\n",
       "  <tbody>\n",
       "    <tr>\n",
       "      <th>2</th>\n",
       "      <td>Manhattan</td>\n",
       "      <td>8.204348</td>\n",
       "    </tr>\n",
       "    <tr>\n",
       "      <th>1</th>\n",
       "      <td>Brooklyn</td>\n",
       "      <td>7.825000</td>\n",
       "    </tr>\n",
       "    <tr>\n",
       "      <th>0</th>\n",
       "      <td>Bronx</td>\n",
       "      <td>6.557143</td>\n",
       "    </tr>\n",
       "  </tbody>\n",
       "</table>\n",
       "</div>"
      ],
      "text/plain": [
       "     Borough  Average Rating\n",
       "2  Manhattan        8.204348\n",
       "1   Brooklyn        7.825000\n",
       "0      Bronx        6.557143"
      ]
     },
     "execution_count": 49,
     "metadata": {},
     "output_type": "execute_result"
    }
   ],
   "source": [
    "ny_borough_stats.sort_values(['Average Rating'],ascending=False).head()"
   ]
  },
  {
   "cell_type": "code",
   "execution_count": 50,
   "metadata": {},
   "outputs": [
    {
     "data": {
      "image/png": "[encoded data removed]",
      "text/plain": [
       "<Figure size 900x500 with 1 Axes>"
      ]
     },
     "metadata": {
      "needs_background": "light"
     },
     "output_type": "display_data"
    }
   ],
   "source": [
    "plt.figure(figsize=(9,5), dpi = 100)\n",
    "# title\n",
    "plt.title('Average rating of Indian Resturants for each Borough')\n",
    "#On x-axis\n",
    "plt.xlabel('Borough', fontsize = 15)\n",
    "#On y-axis\n",
    "plt.ylabel('Average Rating', fontsize=15)\n",
    "#giving a bar plot\n",
    "indian_rest_stats_ny.groupby('Borough').mean()['Rating'].plot(kind='bar')\n",
    "#legend\n",
    "plt.legend()\n",
    "#displays the plot\n",
    "plt.show()"
   ]
  },
  {
   "cell_type": "code",
   "execution_count": 57,
   "metadata": {},
   "outputs": [],
   "source": [
    "ny_neighborhood_stats=ny_neighborhood_stats[ny_neighborhood_stats['Average Rating']>=7.0]"
   ]
  },
  {
   "cell_type": "code",
   "execution_count": 58,
   "metadata": {},
   "outputs": [
    {
     "data": {
      "text/html": [
       "<div>\n",
       "<style scoped>\n",
       "    .dataframe tbody tr th:only-of-type {\n",
       "        vertical-align: middle;\n",
       "    }\n",
       "\n",
       "    .dataframe tbody tr th {\n",
       "        vertical-align: top;\n",
       "    }\n",
       "\n",
       "    .dataframe thead th {\n",
       "        text-align: right;\n",
       "    }\n",
       "</style>\n",
       "<table border=\"1\" class=\"dataframe\">\n",
       "  <thead>\n",
       "    <tr style=\"text-align: right;\">\n",
       "      <th></th>\n",
       "      <th>Neighborhood</th>\n",
       "      <th>Average Rating</th>\n",
       "    </tr>\n",
       "  </thead>\n",
       "  <tbody>\n",
       "    <tr>\n",
       "      <th>28</th>\n",
       "      <td>Tribeca</td>\n",
       "      <td>9.1</td>\n",
       "    </tr>\n",
       "  </tbody>\n",
       "</table>\n",
       "</div>"
      ],
      "text/plain": [
       "   Neighborhood  Average Rating\n",
       "28      Tribeca             9.1"
      ]
     },
     "execution_count": 58,
     "metadata": {},
     "output_type": "execute_result"
    }
   ],
   "source": [
    "ny_neighborhood_stats"
   ]
  },
  {
   "cell_type": "code",
   "execution_count": 59,
   "metadata": {},
   "outputs": [],
   "source": [
    "ny_neighborhood_stats=pd.merge(ny_neighborhood_stats,newyork_data, on='Neighborhood')"
   ]
  },
  {
   "cell_type": "code",
   "execution_count": 60,
   "metadata": {},
   "outputs": [],
   "source": [
    "ny_neighborhood_stats=ny_neighborhood_stats[['Borough','Neighborhood','Latitude','Longitude','Average Rating']]"
   ]
  },
  {
   "cell_type": "code",
   "execution_count": 77,
   "metadata": {},
   "outputs": [
    {
     "data": {
      "text/html": [
       "<div>\n",
       "<style scoped>\n",
       "    .dataframe tbody tr th:only-of-type {\n",
       "        vertical-align: middle;\n",
       "    }\n",
       "\n",
       "    .dataframe tbody tr th {\n",
       "        vertical-align: top;\n",
       "    }\n",
       "\n",
       "    .dataframe thead th {\n",
       "        text-align: right;\n",
       "    }\n",
       "</style>\n",
       "<table border=\"1\" class=\"dataframe\">\n",
       "  <thead>\n",
       "    <tr style=\"text-align: right;\">\n",
       "      <th></th>\n",
       "      <th>Borough</th>\n",
       "      <th>Neighborhood</th>\n",
       "      <th>Latitude</th>\n",
       "      <th>Longitude</th>\n",
       "      <th>Average Rating</th>\n",
       "      <th>Label</th>\n",
       "    </tr>\n",
       "  </thead>\n",
       "  <tbody>\n",
       "    <tr>\n",
       "      <th>0</th>\n",
       "      <td>Manhattan</td>\n",
       "      <td>Tribeca</td>\n",
       "      <td>40.721522</td>\n",
       "      <td>-74.010683</td>\n",
       "      <td>9.1</td>\n",
       "      <td>Tribeca, Manhattan(9.1)</td>\n",
       "    </tr>\n",
       "  </tbody>\n",
       "</table>\n",
       "</div>"
      ],
      "text/plain": [
       "     Borough Neighborhood   Latitude  Longitude  Average Rating  \\\n",
       "0  Manhattan      Tribeca  40.721522 -74.010683             9.1   \n",
       "\n",
       "                     Label  \n",
       "0  Tribeca, Manhattan(9.1)  "
      ]
     },
     "execution_count": 77,
     "metadata": {},
     "output_type": "execute_result"
    }
   ],
   "source": [
    "ny_neighborhood_stats"
   ]
  },
  {
   "cell_type": "code",
   "execution_count": 78,
   "metadata": {
    "scrolled": true
   },
   "outputs": [],
   "source": [
    "# create map and display it\n",
    "ny_map = folium.Map(location=geo_location('New York'), zoom_start=12, timeout=20)"
   ]
  },
  {
   "cell_type": "code",
   "execution_count": 79,
   "metadata": {},
   "outputs": [],
   "source": [
    "# instantiate a feature group for the incidents in the dataframe\n",
    "incidents = folium.map.FeatureGroup()\n",
    "\n",
    "# loop through the 100 crimes and add each to the incidents feature group\n",
    "for lat, lng, in ny_neighborhood_stats[['Latitude','Longitude']].values:\n",
    "    incidents.add_child(\n",
    "        folium.CircleMarker(\n",
    "            [lat, lng],\n",
    "            radius=10, # define how big you want the circle markers to be\n",
    "            color='yellow',\n",
    "            fill=True,\n",
    "            fill_color='blue',\n",
    "            fill_opacity=0.6\n",
    "        )\n",
    "    )"
   ]
  },
  {
   "cell_type": "code",
   "execution_count": 80,
   "metadata": {},
   "outputs": [],
   "source": [
    "ny_neighborhood_stats['Label']=ny_neighborhood_stats['Neighborhood']+', '+ny_neighborhood_stats['Borough']+'('+ny_neighborhood_stats['Average Rating'].map(str)+')'"
   ]
  },
  {
   "cell_type": "code",
   "execution_count": 81,
   "metadata": {},
   "outputs": [
    {
     "data": {
      "text/html": [
       "<div style=\"width:100%;\"><div style=\"position:relative;width:100%;height:0;padding-bottom:60%;\"><iframe src=\"data:text/html;charset=utf-8;base64,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\" style=\"position:absolute;width:100%;height:100%;left:0;top:0;border:none !important;\" allowfullscreen webkitallowfullscreen mozallowfullscreen></iframe></div></div>"
      ],
      "text/plain": [
       "<folium.folium.Map at 0x15efd1eaeb8>"
      ]
     },
     "execution_count": 81,
     "metadata": {},
     "output_type": "execute_result"
    }
   ],
   "source": [
    "# add pop-up text to each marker on the map\n",
    "for lat, lng, label in ny_neighborhood_stats[['Latitude','Longitude','Label']].values:\n",
    "    folium.Marker([lat, lng], popup=label).add_to(ny_map)        \n",
    "# add incidents to map\n",
    "ny_map.add_child(incidents)"
   ]
  }
 ],
 "metadata": {
  "kernelspec": {
   "display_name": "Python 3",
   "language": "python",
   "name": "python3"
  },
  "language_info": {
   "codemirror_mode": {
    "name": "ipython",
    "version": 3
   },
   "file_extension": ".py",
   "mimetype": "text/x-python",
   "name": "python",
   "nbconvert_exporter": "python",
   "pygments_lexer": "ipython3",
   "version": "3.7.3"
  }
 },
 "nbformat": 4,
 "nbformat_minor": 2
}
